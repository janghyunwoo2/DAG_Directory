{
 "cells": [
  {
   "cell_type": "code",
   "execution_count": 3,
   "metadata": {
    "ExecuteTime": {
     "end_time": "2022-07-14T01:29:04.303326Z",
     "start_time": "2022-07-14T01:28:58.421896Z"
    }
   },
   "outputs": [],
   "source": [
    "# 스파크 객체 생성\n",
    "import pyspark\n",
    "import pyspark.sql\n",
    "\n",
    "sc = pyspark.SparkContext()\n",
    "spark = pyspark.sql.SparkSession(sc).builder.getOrCreate()\n"
   ]
  },
  {
   "cell_type": "code",
   "execution_count": 4,
   "metadata": {
    "ExecuteTime": {
     "end_time": "2022-07-14T01:29:10.780279Z",
     "start_time": "2022-07-14T01:29:06.733719Z"
    }
   },
   "outputs": [],
   "source": [
    "# 줄이지 않은 Raw 데이터 가져오기\n",
    "rawdata = spark.read.parquet('../../02_Data_Batch_Processing/data/Raw_Data.parquet')\n",
    "# 테이블 등록\n",
    "rawdata.registerTempTable(\"rawdata\")"
   ]
  },
  {
   "cell_type": "code",
   "execution_count": 5,
   "metadata": {
    "ExecuteTime": {
     "end_time": "2022-07-14T01:29:16.924709Z",
     "start_time": "2022-07-14T01:29:12.397449Z"
    }
   },
   "outputs": [
    {
     "name": "stdout",
     "output_type": "stream",
     "text": [
      "+-----+----+-------------+\n",
      "|Month|Year|total_flights|\n",
      "+-----+----+-------------+\n",
      "|    1|2015|       469968|\n",
      "|    2|2015|       429191|\n",
      "|    3|2015|       504312|\n",
      "|    4|2015|       485151|\n",
      "|    5|2015|       496993|\n",
      "|    6|2015|       503897|\n",
      "|    7|2015|       520718|\n",
      "|    8|2015|       510536|\n",
      "|    9|2015|       464946|\n",
      "|   10|2015|       486165|\n",
      "|   11|2015|       467972|\n",
      "|   12|2015|       479230|\n",
      "+-----+----+-------------+\n",
      "\n"
     ]
    }
   ],
   "source": [
    "# 월별 항공편 수\n",
    "total_flights_by_month = spark.sql(\n",
    "  \"\"\"SELECT INT(Month), INT(Year), COUNT(*) AS total_flights\n",
    "  FROM rawdata\n",
    "  GROUP BY INT(Year), INT(Month)\n",
    "  ORDER BY INT(Year), INT(Month)\"\"\"\n",
    ")\n",
    "\n",
    "total_flights_by_month.show()"
   ]
  },
  {
   "cell_type": "code",
   "execution_count": 6,
   "metadata": {
    "ExecuteTime": {
     "end_time": "2022-07-14T01:29:25.899347Z",
     "start_time": "2022-07-14T01:29:23.109378Z"
    }
   },
   "outputs": [
    {
     "name": "stdout",
     "output_type": "stream",
     "text": [
      "+-----------------------+\n",
      "|count(DISTINCT TailNum)|\n",
      "+-----------------------+\n",
      "|                   4897|\n",
      "+-----------------------+\n",
      "\n"
     ]
    }
   ],
   "source": [
    "# 모든 항공편에 운영된 고유한 항공기 수\n",
    "tail_numbers = spark.sql(\n",
    "  \"\"\"SELECT count(distinct TailNum)\n",
    "  FROM rawdata\"\"\"\n",
    ")\n",
    "\n",
    "tail_numbers.show()"
   ]
  },
  {
   "cell_type": "code",
   "execution_count": 7,
   "metadata": {
    "ExecuteTime": {
     "end_time": "2022-07-14T01:29:38.326351Z",
     "start_time": "2022-07-14T01:29:31.957329Z"
    }
   },
   "outputs": [
    {
     "name": "stdout",
     "output_type": "stream",
     "text": [
      "+-------+----------+----------+\n",
      "|Carrier|tail_count|tail_share|\n",
      "+-------+----------+----------+\n",
      "|     AA|      1044|     21.32|\n",
      "|     DL|       828|     16.91|\n",
      "|     UA|       721|     14.72|\n",
      "|     WN|       704|     14.38|\n",
      "|     EV|       390|      7.96|\n",
      "|     OO|       383|      7.82|\n",
      "|     US|       351|      7.17|\n",
      "|     B6|       215|      4.39|\n",
      "|     MQ|       203|      4.15|\n",
      "|     AS|       147|       3.0|\n",
      "|     NK|        79|      1.61|\n",
      "|     F9|        62|      1.27|\n",
      "|     VX|        57|      1.16|\n",
      "|     HA|        50|      1.02|\n",
      "+-------+----------+----------+\n",
      "\n"
     ]
    }
   ],
   "source": [
    "# 각 항공사가 보유한 항공기 개수 및 비율\n",
    "carrier_tail_numbers = spark.sql(\n",
    "  \"\"\"SELECT Carrier, count(distinct TailNum) as tail_count, ROUND((count(distinct TailNum)/(SELECT count(distinct TailNum)\n",
    "  FROM rawdata))*100,2) as tail_share\n",
    "  FROM rawdata\n",
    "  GROUP BY Carrier\n",
    "  ORDER BY count(distinct TailNum) DESC\n",
    "  \"\"\"\n",
    ")\n",
    "\n",
    "carrier_tail_numbers.show()"
   ]
  },
  {
   "cell_type": "code",
   "execution_count": 10,
   "metadata": {
    "ExecuteTime": {
     "end_time": "2022-07-14T01:39:10.095492Z",
     "start_time": "2022-07-14T01:39:08.169504Z"
    }
   },
   "outputs": [
    {
     "name": "stdout",
     "output_type": "stream",
     "text": [
      "전체 항공 수:   5,819,079\n",
      "Late departures: 2,125,618\n",
      "Late arrivals:   2,086,896\n",
      "Recoveries:      606,902\n",
      "Percentage Late: 35.9%\n"
     ]
    }
   ],
   "source": [
    "# 데이터 가져오기\n",
    "on_time_dataframe = rawdata\n",
    "\n",
    "# 전체 항공편 수 구하기\n",
    "total_flights = on_time_dataframe.count()\n",
    "\n",
    "# 출발이 늦은 항공편 수 구하기\n",
    "late_departures = on_time_dataframe.filter(on_time_dataframe.DepDelayMinutes > 0)\n",
    "total_late_departures = late_departures.count()\n",
    "\n",
    "# 도착이 늦은 항공편 수 구하기\n",
    "late_arrivals = on_time_dataframe.filter(on_time_dataframe.ArrDelayMinutes > 0)\n",
    "total_late_arrivals = late_arrivals.count()\n",
    "\n",
    "# 출발은 늦었지만 정시 도착한 항공편 수 구하기\n",
    "on_time_heros = on_time_dataframe.filter(\n",
    "  (on_time_dataframe.DepDelayMinutes > 0)\n",
    "  &\n",
    "  (on_time_dataframe.ArrDelayMinutes <= 0)\n",
    ")\n",
    "total_on_time_heros = on_time_heros.count()\n",
    "\n",
    "# 전체 항공편 중 늦게 도착한 항공편 수 구하기\n",
    "pct_late = round((total_late_arrivals / (total_flights * 1.0)) * 100, 1)\n",
    "\n",
    "print(\"전체 항공 수:   {:,}\".format(total_flights))\n",
    "print(\"Late departures: {:,}\".format(total_late_departures))\n",
    "print(\"Late arrivals:   {:,}\".format(total_late_arrivals))\n",
    "print(\"Recoveries:      {:,}\".format(total_on_time_heros))\n",
    "print(\"Percentage Late: {}%\".format(pct_late))\n",
    "\n",
    "# 전체 항공편중 얼마나 많이 늦었는지 통계\n",
    "# 전체 항공편 :약 600만\n",
    "# 출발이 늦은 : 약 200만\n",
    "# 도착이 늦은 : 약 200만\n",
    "# 출발은 늦었지만 정시 도착한 : 약 60만\n",
    "# 전체 항공편 중 늦게 도착한 항공기: 200만/600만 약 35%"
   ]
  },
  {
   "cell_type": "code",
   "execution_count": 11,
   "metadata": {
    "ExecuteTime": {
     "end_time": "2022-07-14T01:41:17.413421Z",
     "start_time": "2022-07-14T01:41:16.835209Z"
    }
   },
   "outputs": [
    {
     "name": "stdout",
     "output_type": "stream",
     "text": [
      "+-----------+-----------+\n",
      "|AvgDepDelay|AvgArrDelay|\n",
      "+-----------+-----------+\n",
      "|        9.4|        4.4|\n",
      "+-----------+-----------+\n",
      "\n"
     ]
    }
   ],
   "source": [
    "# 평균 출발지연, 평균 도착 지연\n",
    "spark.sql(\"\"\"\n",
    "SELECT\n",
    "  ROUND(AVG(DepDelay),1) AS AvgDepDelay,\n",
    "  ROUND(AVG(ArrDelay),1) AS AvgArrDelay\n",
    "FROM rawdata\n",
    "\"\"\"\n",
    ").show()"
   ]
  },
  {
   "cell_type": "code",
   "execution_count": 13,
   "metadata": {
    "ExecuteTime": {
     "end_time": "2022-07-14T01:43:12.516533Z",
     "start_time": "2022-07-14T01:43:10.732465Z"
    }
   },
   "outputs": [
    {
     "name": "stdout",
     "output_type": "stream",
     "text": [
      "+---------------+------------+------------+--------+-------------+-----------------+\n",
      "|ArrDelayMinutes|WeatherDelay|CarrierDelay|NASDelay|SecurityDelay|LateAircraftDelay|\n",
      "+---------------+------------+------------+--------+-------------+-----------------+\n",
      "|           19.0|         0.0|         1.0|     0.0|          0.0|             18.0|\n",
      "|           25.0|         0.0|         0.0|    25.0|          0.0|              0.0|\n",
      "|           30.0|         0.0|        13.0|     0.0|          0.0|             17.0|\n",
      "|           60.0|         0.0|        43.0|    17.0|          0.0|              0.0|\n",
      "|           58.0|         0.0|         0.0|     0.0|          0.0|             58.0|\n",
      "|           20.0|         0.0|         4.0|     0.0|          0.0|             16.0|\n",
      "|          192.0|         0.0|         0.0|   164.0|          0.0|             28.0|\n",
      "|           67.0|         0.0|        11.0|     0.0|          0.0|             56.0|\n",
      "|           28.0|         0.0|         6.0|    21.0|          0.0|              1.0|\n",
      "|           45.0|         0.0|        26.0|    19.0|          0.0|              0.0|\n",
      "|           24.0|         0.0|        15.0|     9.0|          0.0|              0.0|\n",
      "|          133.0|         0.0|        28.0|    35.0|          0.0|             70.0|\n",
      "|           46.0|         0.0|        14.0|     0.0|          0.0|             32.0|\n",
      "|          111.0|         0.0|         0.0|     0.0|          0.0|            111.0|\n",
      "|           75.0|         0.0|         1.0|     7.0|          0.0|             67.0|\n",
      "|           43.0|         0.0|        43.0|     0.0|          0.0|              0.0|\n",
      "|           51.0|         0.0|         0.0|     9.0|          0.0|             42.0|\n",
      "|           22.0|         0.0|        16.0|     0.0|          0.0|              6.0|\n",
      "|           26.0|         0.0|        15.0|    11.0|          0.0|              0.0|\n",
      "|           25.0|         0.0|        25.0|     0.0|          0.0|              0.0|\n",
      "+---------------+------------+------------+--------+-------------+-----------------+\n",
      "only showing top 20 rows\n",
      "\n"
     ]
    }
   ],
   "source": [
    "# 도착 지연원인과 걸린 시간\n",
    "late_flights = spark.sql(\"\"\"\n",
    "SELECT\n",
    "  ArrDelayMinutes,\n",
    "  WeatherDelay,\n",
    "  CarrierDelay,\n",
    "  NASDelay,\n",
    "  SecurityDelay,\n",
    "  LateAircraftDelay\n",
    "FROM\n",
    "  rawdata\n",
    "WHERE\n",
    "  WeatherDelay IS NOT NULL\n",
    "  OR\n",
    "  CarrierDelay IS NOT NULL\n",
    "  OR\n",
    "  NASDelay IS NOT NULL\n",
    "  OR\n",
    "  SecurityDelay IS NOT NULL\n",
    "  OR\n",
    "  LateAircraftDelay IS NOT NULL\n",
    "ORDER BY\n",
    "  FlightDate\n",
    "\"\"\")\n",
    "late_flights.sample(False, 0.01).show()"
   ]
  },
  {
   "cell_type": "code",
   "execution_count": 14,
   "metadata": {
    "ExecuteTime": {
     "end_time": "2022-07-14T01:44:32.282442Z",
     "start_time": "2022-07-14T01:44:31.654703Z"
    }
   },
   "outputs": [
    {
     "name": "stdout",
     "output_type": "stream",
     "text": [
      "+-----------------+-----------------+-------------+------------------+-----------------------+\n",
      "|pct_weather_delay|pct_carrier_delay|pct_nas_delay|pct_security_delay|pct_late_aircraft_delay|\n",
      "+-----------------+-----------------+-------------+------------------+-----------------------+\n",
      "|              4.5|             29.2|         20.7|               0.1|                   36.1|\n",
      "+-----------------+-----------------+-------------+------------------+-----------------------+\n",
      "\n"
     ]
    }
   ],
   "source": [
    "# 도착 지연원인과 평균 걸린 시간\n",
    "total_delays = spark.sql(\"\"\"\n",
    "SELECT\n",
    "  ROUND(SUM(WeatherDelay)/SUM(ArrDelayMinutes) * 100, 1) AS pct_weather_delay,\n",
    "  ROUND(SUM(CarrierDelay)/SUM(ArrDelayMinutes) * 100, 1) AS pct_carrier_delay,\n",
    "  ROUND(SUM(NASDelay)/SUM(ArrDelayMinutes) * 100, 1) AS pct_nas_delay,\n",
    "  ROUND(SUM(SecurityDelay)/SUM(ArrDelayMinutes) * 100, 1) AS pct_security_delay,\n",
    "  ROUND(SUM(LateAircraftDelay)/SUM(ArrDelayMinutes) * 100, 1) AS pct_late_aircraft_delay\n",
    "FROM rawdata\n",
    "\"\"\")\n",
    "total_delays.show()"
   ]
  },
  {
   "cell_type": "code",
   "execution_count": 15,
   "metadata": {
    "ExecuteTime": {
     "end_time": "2022-07-14T01:44:36.695095Z",
     "start_time": "2022-07-14T01:44:36.582663Z"
    }
   },
   "outputs": [
    {
     "name": "stdout",
     "output_type": "stream",
     "text": [
      "+----------+----------+----------+\n",
      "|FlightDate|CRSDepTime|CRSArrTime|\n",
      "+----------+----------+----------+\n",
      "|2015-05-09|      0550|      0835|\n",
      "|2015-05-09|      1930|      2200|\n",
      "|2015-05-09|      1100|      1635|\n",
      "|2015-05-09|      1730|      1830|\n",
      "|2015-05-09|      0620|      1000|\n",
      "|2015-05-09|      2030|      2140|\n",
      "|2015-05-09|      1120|      1405|\n",
      "|2015-05-09|      0645|      1025|\n",
      "|2015-05-09|      1500|      1920|\n",
      "|2015-05-09|      1550|      2255|\n",
      "|2015-05-09|      1410|      1505|\n",
      "|2015-05-09|      1135|      1320|\n",
      "|2015-05-09|      0740|      1050|\n",
      "|2015-05-09|      0725|      1040|\n",
      "|2015-05-09|      1130|      1435|\n",
      "|2015-05-09|      1520|      1800|\n",
      "|2015-05-09|      1850|      2130|\n",
      "|2015-05-09|      1105|      1340|\n",
      "|2015-05-09|      0640|      1005|\n",
      "|2015-05-09|      1620|      1730|\n",
      "+----------+----------+----------+\n",
      "only showing top 20 rows\n",
      "\n"
     ]
    }
   ],
   "source": [
    "# 예정된 출발과 도착 시간\n",
    "simple_on_time_features = spark.sql(\"\"\"\n",
    "    SELECT\n",
    "    FlightDate,\n",
    "      CRSDepTime,\n",
    "      CRSArrTime\n",
    "    FROM rawdata\n",
    "    \"\"\")\n",
    "simple_on_time_features.show(20)"
   ]
  },
  {
   "cell_type": "markdown",
   "metadata": {},
   "source": [
    "# 몽고DB에 거리 데이터 넣기"
   ]
  },
  {
   "cell_type": "code",
   "execution_count": null,
   "metadata": {
    "ExecuteTime": {
     "end_time": "2022-07-14T01:46:25.247682Z",
     "start_time": "2022-07-14T01:46:15.727398Z"
    }
   },
   "outputs": [],
   "source": [
    "import pyspark\n",
    "import pyspark.sql\n",
    "import sys, os, re\n",
    "\n",
    "# 위에서 실행했다면 여기서 안해도 됨.. sparkcontext는 1번\n",
    "sc = pyspark.SparkContext()\n",
    "spark = pyspark.sql.SparkSession(sc).builder.getOrCreate()"
   ]
  },
  {
   "cell_type": "code",
   "execution_count": 1,
   "metadata": {
    "ExecuteTime": {
     "end_time": "2022-07-14T01:46:25.247682Z",
     "start_time": "2022-07-14T01:46:15.727398Z"
    }
   },
   "outputs": [],
   "source": [
    "rawdata = spark.read.parquet('../data/Raw_Data.parquet')\n",
    "rawdata.registerTempTable(\"rawdata\")"
   ]
  },
  {
   "cell_type": "code",
   "execution_count": 2,
   "metadata": {
    "ExecuteTime": {
     "end_time": "2022-07-14T01:48:31.562888Z",
     "start_time": "2022-07-14T01:48:19.259670Z"
    }
   },
   "outputs": [
    {
     "name": "stdout",
     "output_type": "stream",
     "text": [
      "+------+----+--------+\n",
      "|Origin|Dest|Distance|\n",
      "+------+----+--------+\n",
      "|   HNL| JFK|  4983.0|\n",
      "|   JFK| HNL|  4983.0|\n",
      "|   HNL| EWR|  4962.0|\n",
      "|   EWR| HNL|  4962.0|\n",
      "|   IAD| HNL|  4817.0|\n",
      "+------+----+--------+\n",
      "only showing top 5 rows\n",
      "\n"
     ]
    },
    {
     "data": {
      "text/plain": [
       "4696"
      ]
     },
     "execution_count": 2,
     "metadata": {},
     "output_type": "execute_result"
    }
   ],
   "source": [
    "# 공항 출발지, 도착지 이름과 거리\n",
    "# !! 같은 경로라도 거리가 다른 것들이 있어서 평균으로 처리해서 하나의 값만 남김.\n",
    "origin_dest_distances = spark.sql(\"\"\"\n",
    "  SELECT Origin, Dest, AVG(Distance) AS Distance\n",
    "  FROM rawdata\n",
    "  GROUP BY Origin, Dest\n",
    "  ORDER BY Distance DESC\n",
    "\"\"\")\n",
    "origin_dest_distances.show(5)\n",
    "origin_dest_distances.count()"
   ]
  },
  {
   "cell_type": "code",
   "execution_count": 3,
   "metadata": {
    "ExecuteTime": {
     "end_time": "2022-07-14T01:48:45.241704Z",
     "start_time": "2022-07-14T01:48:40.284547Z"
    }
   },
   "outputs": [
    {
     "data": {
      "text/plain": [
       "0"
      ]
     },
     "execution_count": 3,
     "metadata": {},
     "output_type": "execute_result"
    }
   ],
   "source": [
    "# jsonl 파일로 만들기\n",
    "origin_dest_distances.repartition(1).write.mode(\"overwrite\").json(\"../data/origin_dest_distances.json\")\n",
    "os.system(\"rm ../data/origin_dest_distances.jsonl\")\n",
    "os.system(\"cat ../data/origin_dest_distances.json/part* > ../data/origin_dest_distances.jsonl\")"
   ]
  },
  {
   "cell_type": "code",
   "execution_count": 5,
   "metadata": {
    "ExecuteTime": {
     "end_time": "2022-07-14T01:52:16.630580Z",
     "start_time": "2022-07-14T01:52:16.516433Z"
    }
   },
   "outputs": [
    {
     "name": "stdout",
     "output_type": "stream",
     "text": [
      "{\"Origin\":\"JFK\",\"Dest\":\"HNL\",\"Distance\":4983.0}\r\n",
      "{\"Origin\":\"HNL\",\"Dest\":\"JFK\",\"Distance\":4983.0}\r\n",
      "{\"Origin\":\"HNL\",\"Dest\":\"EWR\",\"Distance\":4962.0}\r\n",
      "{\"Origin\":\"EWR\",\"Dest\":\"HNL\",\"Distance\":4962.0}\r\n",
      "{\"Origin\":\"IAD\",\"Dest\":\"HNL\",\"Distance\":4817.0}\r\n"
     ]
    }
   ],
   "source": [
    "!head -5 ../data/origin_dest_distances.jsonl"
   ]
  },
  {
   "cell_type": "code",
   "execution_count": 1,
   "metadata": {
    "ExecuteTime": {
     "end_time": "2022-07-18T02:10:02.443790Z",
     "start_time": "2022-07-18T02:09:59.322929Z"
    }
   },
   "outputs": [
    {
     "name": "stdout",
     "output_type": "stream",
     "text": [
      "2022-07-18T02:10:00.708+0000\tconnected to: ac-yquygh3-shard-00-01.u70vq2s.mongodb.net:27017\n",
      "2022-07-18T02:10:02.337+0000\timported 4696 documents\n"
     ]
    }
   ],
   "source": [
    "# 먼저 mongoimoport 설치 해야됨\n",
    "# sudo apt-get install mongo-tools\n",
    "\n",
    "# 몽고DB에 데이터 넣기\n",
    "#!mongoimport --host mongodbcluster-shard-00-00-mhvk4.mongodb.net:27017 --db test --collection test --type json --file ../data/origin_dest_distances.jsonl --authenticationDatabase admin --ssl --username jang --password jang\n",
    "!mongoimport --host ac-yquygh3-shard-00-01.u70vq2s.mongodb.net:27017 --db test --collection Distance --type json --file ../data/origin_dest_distances.jsonl --authenticationDatabase admin --ssl --username jang --password jang    "
   ]
  }
 ],
 "metadata": {
  "kernelspec": {
   "display_name": "Python 3",
   "language": "python",
   "name": "python3"
  },
  "language_info": {
   "codemirror_mode": {
    "name": "ipython",
    "version": 3
   },
   "file_extension": ".py",
   "mimetype": "text/x-python",
   "name": "python",
   "nbconvert_exporter": "python",
   "pygments_lexer": "ipython3",
   "version": "3.6.8"
  },
  "varInspector": {
   "cols": {
    "lenName": 16,
    "lenType": 16,
    "lenVar": 40
   },
   "kernels_config": {
    "python": {
     "delete_cmd_postfix": "",
     "delete_cmd_prefix": "del ",
     "library": "var_list.py",
     "varRefreshCmd": "print(var_dic_list())"
    },
    "r": {
     "delete_cmd_postfix": ") ",
     "delete_cmd_prefix": "rm(",
     "library": "var_list.r",
     "varRefreshCmd": "cat(var_dic_list()) "
    }
   },
   "types_to_exclude": [
    "module",
    "function",
    "builtin_function_or_method",
    "instance",
    "_Feature"
   ],
   "window_display": false
  }
 },
 "nbformat": 4,
 "nbformat_minor": 2
}
