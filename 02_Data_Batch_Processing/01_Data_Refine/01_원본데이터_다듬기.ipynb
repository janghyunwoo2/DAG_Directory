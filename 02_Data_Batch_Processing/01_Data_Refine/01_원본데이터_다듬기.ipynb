{
 "cells": [
  {
   "cell_type": "markdown",
   "metadata": {},
   "source": [
    "# Row 데이터 불필요한 데이터 제거해서 크기 줄이기.\n",
    "\n",
    "같은 폴더 안에 있는 data_refine.py와 코드는 같다. 파이썬 파일를 노트북에서 결과 볼라고 가져온거"
   ]
  },
  {
   "cell_type": "code",
   "execution_count": 2,
   "metadata": {},
   "outputs": [],
   "source": [
    "import pyspark\n",
    "import pyspark.sql\n",
    "import sys, os, re, iso8601, datetime\n",
    "import timeit\n",
    "\n",
    "conf = pyspark.SparkConf().setAll([('spark.driver.memory', '2g')])\n",
    "sc = pyspark.SparkContext(conf=conf)\n",
    "spark = pyspark.sql.SparkSession(sc).builder.getOrCreate()\n",
    "\n",
    "\n",
    "project_home = '..'"
   ]
  },
  {
   "cell_type": "code",
   "execution_count": 3,
   "metadata": {},
   "outputs": [],
   "source": [
    "# 데이터 읽어오기\n",
    "raw_dataframe = spark.read.parquet(\"{}/data/Raw_Data.parquet\".format(project_home))\n",
    "\n",
    "# 테이블 등록\n",
    "raw_dataframe.registerTempTable(\"rawdata_table\")"
   ]
  },
  {
   "cell_type": "code",
   "execution_count": 23,
   "metadata": {},
   "outputs": [
    {
     "data": {
      "text/plain": [
       "5819079"
      ]
     },
     "execution_count": 23,
     "metadata": {},
     "output_type": "execute_result"
    }
   ],
   "source": [
    "# raw 데이터 개수\n",
    "raw_dataframe.count()"
   ]
  },
  {
   "cell_type": "code",
   "execution_count": 4,
   "metadata": {
    "collapsed": true
   },
   "outputs": [
    {
     "data": {
      "text/plain": [
       "[('Year', 0.0),\n",
       " ('Quarter', 0.0),\n",
       " ('Month', 0.0),\n",
       " ('DayofMonth', 0.0),\n",
       " ('DayOfWeek', 0.0),\n",
       " ('FlightDate', 0.0),\n",
       " ('Carrier', 0.0),\n",
       " ('TailNum', 0.25),\n",
       " ('FlightNum', 0.0),\n",
       " ('Origin', 0.0),\n",
       " ('OriginCityName', 0.0),\n",
       " ('OriginState', 0.0),\n",
       " ('Dest', 0.0),\n",
       " ('DestCityName', 0.0),\n",
       " ('DestState', 0.0),\n",
       " ('DepTime', 1.48),\n",
       " ('DepDelay', 1.48),\n",
       " ('DepDelayMinutes', 1.48),\n",
       " ('TaxiOut', 1.53),\n",
       " ('TaxiIn', 1.59),\n",
       " ('WheelsOff', 1.53),\n",
       " ('WheelsOn', 1.59),\n",
       " ('ArrTime', 1.59),\n",
       " ('ArrDelay', 1.81),\n",
       " ('ArrDelayMinutes', 1.81),\n",
       " ('Cancelled', 0.0),\n",
       " ('Diverted', 0.0),\n",
       " ('ActualElapsedTime', 1.81),\n",
       " ('AirTime', 1.81),\n",
       " ('Flights', 0.0),\n",
       " ('Distance', 0.0),\n",
       " ('CarrierDelay', 81.72),\n",
       " ('WeatherDelay', 81.72),\n",
       " ('NASDelay', 81.72),\n",
       " ('SecurityDelay', 81.72),\n",
       " ('LateAircraftDelay', 81.72),\n",
       " ('CRSDepTime', 0.0),\n",
       " ('CRSArrTime', 0.0)]"
      ]
     },
     "execution_count": 4,
     "metadata": {},
     "output_type": "execute_result"
    }
   ],
   "source": [
    "# null값을 카운트 한 다음, 퍼샌트로 만들어줌 (where 대신 filter 도 가능)\n",
    "def column_nullCount_ToParcent(dataframe,column):\n",
    "    return round((dataframe.where(dataframe[column].isNull()).count()/dataframe.count()) * 100,2)\n",
    "\n",
    "# 각 컬럼 별로 null 값 검사(%)\n",
    "null_parcent = [(column, column_nullCount_ToParcent(raw_dataframe,column)) for column in raw_dataframe.columns]\n",
    "null_parcent"
   ]
  },
  {
   "cell_type": "code",
   "execution_count": 5,
   "metadata": {
    "collapsed": true
   },
   "outputs": [
    {
     "data": {
      "text/plain": [
       "['Year',\n",
       " 'Quarter',\n",
       " 'Month',\n",
       " 'DayofMonth',\n",
       " 'DayOfWeek',\n",
       " 'FlightDate',\n",
       " 'Carrier',\n",
       " 'TailNum',\n",
       " 'FlightNum',\n",
       " 'Origin',\n",
       " 'OriginCityName',\n",
       " 'OriginState',\n",
       " 'Dest',\n",
       " 'DestCityName',\n",
       " 'DestState',\n",
       " 'DepTime',\n",
       " 'DepDelay',\n",
       " 'DepDelayMinutes',\n",
       " 'TaxiOut',\n",
       " 'TaxiIn',\n",
       " 'WheelsOff',\n",
       " 'WheelsOn',\n",
       " 'ArrTime',\n",
       " 'ArrDelay',\n",
       " 'ArrDelayMinutes',\n",
       " 'Cancelled',\n",
       " 'Diverted',\n",
       " 'ActualElapsedTime',\n",
       " 'AirTime',\n",
       " 'Flights',\n",
       " 'Distance',\n",
       " 'CRSDepTime',\n",
       " 'CRSArrTime']"
      ]
     },
     "execution_count": 5,
     "metadata": {},
     "output_type": "execute_result"
    }
   ],
   "source": [
    "# null 비율이 10%이하인 컬럼 추출\n",
    "null_10parcent_down_col = []\n",
    "\n",
    "for column, nullParcent in null_parcent:\n",
    "    if nullParcent < 10:\n",
    "        null_10parcent_down_col.append(column)\n",
    "        \n",
    "null_10parcent_down_col"
   ]
  },
  {
   "cell_type": "code",
   "execution_count": 6,
   "metadata": {
    "collapsed": true
   },
   "outputs": [
    {
     "data": {
      "text/plain": [
       "['Year',\n",
       " 'Quarter',\n",
       " 'Month',\n",
       " 'DayofMonth',\n",
       " 'DayOfWeek',\n",
       " 'FlightDate',\n",
       " 'Carrier',\n",
       " 'TailNum',\n",
       " 'FlightNum',\n",
       " 'Origin',\n",
       " 'OriginCityName',\n",
       " 'OriginState',\n",
       " 'Dest',\n",
       " 'DestCityName',\n",
       " 'DestState',\n",
       " 'DepTime',\n",
       " 'DepDelay',\n",
       " 'DepDelayMinutes',\n",
       " 'TaxiOut',\n",
       " 'TaxiIn',\n",
       " 'WheelsOff',\n",
       " 'WheelsOn',\n",
       " 'ArrTime',\n",
       " 'ArrDelay',\n",
       " 'ArrDelayMinutes',\n",
       " 'Cancelled',\n",
       " 'Diverted',\n",
       " 'ActualElapsedTime',\n",
       " 'AirTime',\n",
       " 'Flights',\n",
       " 'Distance',\n",
       " 'CRSDepTime',\n",
       " 'CRSArrTime']"
      ]
     },
     "execution_count": 6,
     "metadata": {},
     "output_type": "execute_result"
    }
   ],
   "source": [
    "# 스파크SQL을 이용하여 null값이 10%이하인 컬럼만 선택\n",
    "fit_dataframe = spark.sql(\n",
    "  \"\"\"SELECT {} FROM rawdata_table\n",
    "  \"\"\".format(','.join(null_10parcent_down_col))\n",
    ")\n",
    "\n",
    "fit_dataframe.columns\n"
   ]
  },
  {
   "cell_type": "code",
   "execution_count": 7,
   "metadata": {},
   "outputs": [
    {
     "name": "stdout",
     "output_type": "stream",
     "text": [
      "지우기 전: 5819079\n",
      "지운 후: 5714008\n"
     ]
    }
   ],
   "source": [
    "# 나머지 null인 행들 모두 제거 \n",
    "print(\"지우기 전:\",fit_dataframe.count())\n",
    "fit_notnull_dataframe = fit_dataframe.na.drop()\n",
    "print(\"지운 후:\",fit_notnull_dataframe.count())\n"
   ]
  },
  {
   "cell_type": "code",
   "execution_count": 8,
   "metadata": {
    "collapsed": true
   },
   "outputs": [
    {
     "data": {
      "text/plain": [
       "[('Year', 0.0),\n",
       " ('Quarter', 0.0),\n",
       " ('Month', 0.0),\n",
       " ('DayofMonth', 0.0),\n",
       " ('DayOfWeek', 0.0),\n",
       " ('FlightDate', 0.0),\n",
       " ('Carrier', 0.0),\n",
       " ('TailNum', 0.0),\n",
       " ('FlightNum', 0.0),\n",
       " ('Origin', 0.0),\n",
       " ('OriginCityName', 0.0),\n",
       " ('OriginState', 0.0),\n",
       " ('Dest', 0.0),\n",
       " ('DestCityName', 0.0),\n",
       " ('DestState', 0.0),\n",
       " ('DepTime', 0.0),\n",
       " ('DepDelay', 0.0),\n",
       " ('DepDelayMinutes', 0.0),\n",
       " ('TaxiOut', 0.0),\n",
       " ('TaxiIn', 0.0),\n",
       " ('WheelsOff', 0.0),\n",
       " ('WheelsOn', 0.0),\n",
       " ('ArrTime', 0.0),\n",
       " ('ArrDelay', 0.0),\n",
       " ('ArrDelayMinutes', 0.0),\n",
       " ('Cancelled', 0.0),\n",
       " ('Diverted', 0.0),\n",
       " ('ActualElapsedTime', 0.0),\n",
       " ('AirTime', 0.0),\n",
       " ('Flights', 0.0),\n",
       " ('Distance', 0.0),\n",
       " ('CRSDepTime', 0.0),\n",
       " ('CRSArrTime', 0.0)]"
      ]
     },
     "execution_count": 8,
     "metadata": {},
     "output_type": "execute_result"
    }
   ],
   "source": [
    "# 정상적으로 제거 되었는지 확인\n",
    "null_parcent = [(column, column_nullCount_ToParcent(fit_notnull_dataframe,column)) for column in fit_notnull_dataframe.columns]\n",
    "null_parcent"
   ]
  },
  {
   "cell_type": "code",
   "execution_count": 10,
   "metadata": {},
   "outputs": [],
   "source": [
    "# 파퀘이로 저장\n",
    "fit_notnull_dataframe.repartition(1).write.mode('overwrite').parquet(\"{}/data/Refined_Data.parquet\".format(project_home))\n",
    "\n"
   ]
  }
 ],
 "metadata": {
  "kernelspec": {
   "display_name": "Python 3",
   "language": "python",
   "name": "python3"
  },
  "language_info": {
   "codemirror_mode": {
    "name": "ipython",
    "version": 3
   },
   "file_extension": ".py",
   "mimetype": "text/x-python",
   "name": "python",
   "nbconvert_exporter": "python",
   "pygments_lexer": "ipython3",
   "version": "3.6.8"
  },
  "varInspector": {
   "cols": {
    "lenName": 16,
    "lenType": 16,
    "lenVar": 40
   },
   "kernels_config": {
    "python": {
     "delete_cmd_postfix": "",
     "delete_cmd_prefix": "del ",
     "library": "var_list.py",
     "varRefreshCmd": "print(var_dic_list())"
    },
    "r": {
     "delete_cmd_postfix": ") ",
     "delete_cmd_prefix": "rm(",
     "library": "var_list.r",
     "varRefreshCmd": "cat(var_dic_list()) "
    }
   },
   "types_to_exclude": [
    "module",
    "function",
    "builtin_function_or_method",
    "instance",
    "_Feature"
   ],
   "window_display": false
  }
 },
 "nbformat": 4,
 "nbformat_minor": 2
}
